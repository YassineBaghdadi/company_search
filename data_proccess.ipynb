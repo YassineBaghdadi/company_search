{
 "cells": [
  {
   "cell_type": "code",
   "execution_count": 2,
   "metadata": {},
   "outputs": [],
   "source": [
    "import pandas as pd\n",
    "import numpy as np\n"
   ]
  },
  {
   "cell_type": "code",
   "execution_count": 3,
   "metadata": {},
   "outputs": [],
   "source": [
    "data = pd.read_csv(\"./tokenizer_input.csv\")"
   ]
  },
  {
   "cell_type": "code",
   "execution_count": 5,
   "metadata": {},
   "outputs": [
    {
     "data": {
      "text/html": [
       "<div>\n",
       "<style scoped>\n",
       "    .dataframe tbody tr th:only-of-type {\n",
       "        vertical-align: middle;\n",
       "    }\n",
       "\n",
       "    .dataframe tbody tr th {\n",
       "        vertical-align: top;\n",
       "    }\n",
       "\n",
       "    .dataframe thead th {\n",
       "        text-align: right;\n",
       "    }\n",
       "</style>\n",
       "<table border=\"1\" class=\"dataframe\">\n",
       "  <thead>\n",
       "    <tr style=\"text-align: right;\">\n",
       "      <th></th>\n",
       "      <th>Keyperson</th>\n",
       "      <th>keyinstn</th>\n",
       "      <th>longname</th>\n",
       "      <th>persontext</th>\n",
       "    </tr>\n",
       "  </thead>\n",
       "  <tbody>\n",
       "    <tr>\n",
       "      <th>0</th>\n",
       "      <td>1001878630</td>\n",
       "      <td>100130</td>\n",
       "      <td>AMCORE Financial, Inc.</td>\n",
       "      <td>Mr. Thomas Henry Bolgert, also known as Tom, C...</td>\n",
       "    </tr>\n",
       "    <tr>\n",
       "      <th>1</th>\n",
       "      <td>177476</td>\n",
       "      <td>100282</td>\n",
       "      <td>First Regional Bancorp</td>\n",
       "      <td>Mr. Steven J. Sweeney, also known as Steve, se...</td>\n",
       "    </tr>\n",
       "    <tr>\n",
       "      <th>2</th>\n",
       "      <td>177475</td>\n",
       "      <td>100701</td>\n",
       "      <td>Capital Corp of the West</td>\n",
       "      <td>Bertyl W. Johnson had been a Director of Capit...</td>\n",
       "    </tr>\n",
       "    <tr>\n",
       "      <th>3</th>\n",
       "      <td>1005199712</td>\n",
       "      <td>100903</td>\n",
       "      <td>Vineyard National Bancorp</td>\n",
       "      <td>Mr. Demetri Snow was a Regional President of S...</td>\n",
       "    </tr>\n",
       "    <tr>\n",
       "      <th>4</th>\n",
       "      <td>716972</td>\n",
       "      <td>102805</td>\n",
       "      <td>Harbourton Financial Services L.P.</td>\n",
       "      <td>Mr. Kevin John Ryan is the Chief Financial Off...</td>\n",
       "    </tr>\n",
       "  </tbody>\n",
       "</table>\n",
       "</div>"
      ],
      "text/plain": [
       "    Keyperson  keyinstn                            longname  \\\n",
       "0  1001878630    100130              AMCORE Financial, Inc.   \n",
       "1      177476    100282              First Regional Bancorp   \n",
       "2      177475    100701            Capital Corp of the West   \n",
       "3  1005199712    100903           Vineyard National Bancorp   \n",
       "4      716972    102805  Harbourton Financial Services L.P.   \n",
       "\n",
       "                                          persontext  \n",
       "0  Mr. Thomas Henry Bolgert, also known as Tom, C...  \n",
       "1  Mr. Steven J. Sweeney, also known as Steve, se...  \n",
       "2  Bertyl W. Johnson had been a Director of Capit...  \n",
       "3  Mr. Demetri Snow was a Regional President of S...  \n",
       "4  Mr. Kevin John Ryan is the Chief Financial Off...  "
      ]
     },
     "execution_count": 5,
     "metadata": {},
     "output_type": "execute_result"
    }
   ],
   "source": [
    "data.head()"
   ]
  },
  {
   "cell_type": "code",
   "execution_count": 9,
   "metadata": {},
   "outputs": [
    {
     "data": {
      "text/plain": [
       "4"
      ]
     },
     "execution_count": 9,
     "metadata": {},
     "output_type": "execute_result"
    }
   ],
   "source": [
    "len([i for i in data.columns])"
   ]
  },
  {
   "cell_type": "code",
   "execution_count": 22,
   "metadata": {},
   "outputs": [
    {
     "data": {
      "text/plain": [
       "1001878630"
      ]
     },
     "execution_count": 22,
     "metadata": {},
     "output_type": "execute_result"
    }
   ],
   "source": [
    "data.iloc[0][0]"
   ]
  }
 ],
 "metadata": {
  "kernelspec": {
   "display_name": "Python 3",
   "language": "python",
   "name": "python3"
  },
  "language_info": {
   "codemirror_mode": {
    "name": "ipython",
    "version": 3
   },
   "file_extension": ".py",
   "mimetype": "text/x-python",
   "name": "python",
   "nbconvert_exporter": "python",
   "pygments_lexer": "ipython3",
   "version": "3.8.2"
  }
 },
 "nbformat": 4,
 "nbformat_minor": 4
}
